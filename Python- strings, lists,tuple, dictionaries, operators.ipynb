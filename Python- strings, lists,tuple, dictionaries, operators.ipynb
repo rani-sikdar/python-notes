{
 "cells": [
  {
   "cell_type": "markdown",
   "id": "28941edc",
   "metadata": {},
   "source": [
    "### Topics covered -\n",
    "\n",
    "- Data Types\n",
    "- Playing with strings\n",
    "- Lists\n",
    "- Tuples\n",
    "- Dictionaries\n",
    "- Python operators"
   ]
  },
  {
   "cell_type": "code",
   "execution_count": 102,
   "id": "f86b9171",
   "metadata": {},
   "outputs": [
    {
     "data": {
      "text/plain": [
       "['python', 'language']"
      ]
     },
     "execution_count": 102,
     "metadata": {},
     "output_type": "execute_result"
    }
   ],
   "source": [
    "##split()\n",
    "string= 'python language'\n",
    "string.split(' ')"
   ]
  },
  {
   "cell_type": "code",
   "execution_count": 2,
   "id": "b99f5311",
   "metadata": {},
   "outputs": [
    {
     "name": "stdout",
     "output_type": "stream",
     "text": [
      "text 1 python and is good\n"
     ]
    }
   ],
   "source": [
    "var1= 'python'\n",
    "var2= 'is good'\n",
    "\n",
    "print('text 1 {} and {}'.format(var1, var2))"
   ]
  },
  {
   "cell_type": "code",
   "execution_count": 3,
   "id": "007b7e52",
   "metadata": {},
   "outputs": [
    {
     "name": "stdout",
     "output_type": "stream",
     "text": [
      "enter the number of your choice34\n",
      "You entered- 34\n",
      "You entered- 34\n"
     ]
    }
   ],
   "source": [
    "n= input('enter the number of your choice')\n",
    "print('You entered- {}'.format(n))\n",
    "print('You entered- %s' %n)"
   ]
  },
  {
   "cell_type": "code",
   "execution_count": 4,
   "id": "4cd33c47",
   "metadata": {},
   "outputs": [
    {
     "name": "stdout",
     "output_type": "stream",
     "text": [
      "1234\n",
      "1 2 3 4\n",
      "1_2_3_4\n"
     ]
    }
   ],
   "source": [
    "##join()\n",
    "list1= ['1','2','3','4']\n",
    "print(\"\".join(list1))\n",
    "print(\" \".join(list1))\n",
    "print(\"_\".join(list1))"
   ]
  },
  {
   "cell_type": "code",
   "execution_count": 5,
   "id": "007dd5ea",
   "metadata": {},
   "outputs": [
    {
     "name": "stdout",
     "output_type": "stream",
     "text": [
      "a*b*c*d*e\n"
     ]
    }
   ],
   "source": [
    "print(\"*\".join(['a','b','c','d','e']))"
   ]
  },
  {
   "cell_type": "code",
   "execution_count": 6,
   "id": "d6f693de",
   "metadata": {},
   "outputs": [
    {
     "name": "stdout",
     "output_type": "stream",
     "text": [
      "10\n"
     ]
    }
   ],
   "source": [
    "string= 'python language'\n",
    "print(string.index('g')) #first occurance\n",
    "\n"
   ]
  },
  {
   "cell_type": "code",
   "execution_count": 7,
   "id": "25d1a00d",
   "metadata": {},
   "outputs": [
    {
     "name": "stdout",
     "output_type": "stream",
     "text": [
      "22\n",
      "4\n",
      "22\n"
     ]
    }
   ],
   "source": [
    "#format()\n",
    "print('2'+'2')\n",
    "print(2+2)\n",
    "#print('2'+2) #have to convert non string to string data \n",
    "print('2'+ str(2))"
   ]
  },
  {
   "cell_type": "code",
   "execution_count": 8,
   "id": "fe89cc01",
   "metadata": {},
   "outputs": [
    {
     "data": {
      "text/plain": [
       "'addition- 1 + 5 = 6'"
      ]
     },
     "execution_count": 8,
     "metadata": {},
     "output_type": "execute_result"
    }
   ],
   "source": [
    "num1=1\n",
    "num2=5\n",
    "\n",
    "'addition- '+ str(num1) +' + '+ str(num2) +' = ' + str(num1+num2)"
   ]
  },
  {
   "cell_type": "code",
   "execution_count": 9,
   "id": "09d74b46",
   "metadata": {},
   "outputs": [
    {
     "data": {
      "text/plain": [
       "'addition- 1 + 5 = 6'"
      ]
     },
     "execution_count": 9,
     "metadata": {},
     "output_type": "execute_result"
    }
   ],
   "source": [
    "num1=1\n",
    "num2=5\n",
    "\n",
    "\"addition- {} + {} = {}\".format(num1,num2,num1+num2)"
   ]
  },
  {
   "cell_type": "code",
   "execution_count": 10,
   "id": "723a7f94",
   "metadata": {},
   "outputs": [
    {
     "data": {
      "text/plain": [
       "'addition- 5 + 7 = 12'"
      ]
     },
     "execution_count": 10,
     "metadata": {},
     "output_type": "execute_result"
    }
   ],
   "source": [
    "num1=1\n",
    "num2=5\n",
    "\n",
    "\"addition- {} + {} = {}\".format(5,7,(5+7))"
   ]
  },
  {
   "cell_type": "code",
   "execution_count": 11,
   "id": "debdb7c4",
   "metadata": {},
   "outputs": [
    {
     "data": {
      "text/plain": [
       "'addition- 7 + 5 = 12'"
      ]
     },
     "execution_count": 11,
     "metadata": {},
     "output_type": "execute_result"
    }
   ],
   "source": [
    "num1=1\n",
    "num2=5\n",
    "\n",
    "\"addition- {a} + {b} = {c}\".format(a=5,b=7,c=(5+7))\n",
    "\"addition- {a} + {b} = {c}\".format(b=5,a=7,c=(5+7))"
   ]
  },
  {
   "cell_type": "code",
   "execution_count": 12,
   "id": "3064a4ea",
   "metadata": {},
   "outputs": [
    {
     "name": "stdout",
     "output_type": "stream",
     "text": [
      "45\n"
     ]
    },
    {
     "data": {
      "text/plain": [
       "'45'"
      ]
     },
     "execution_count": 12,
     "metadata": {},
     "output_type": "execute_result"
    }
   ],
   "source": [
    "#read input from the user\n",
    "input()"
   ]
  },
  {
   "cell_type": "code",
   "execution_count": 13,
   "id": "60bcc41a",
   "metadata": {},
   "outputs": [
    {
     "name": "stdout",
     "output_type": "stream",
     "text": [
      "enter a number 56\n",
      "56\n"
     ]
    }
   ],
   "source": [
    "num= input('enter a number ')\n",
    "print(num)"
   ]
  },
  {
   "cell_type": "code",
   "execution_count": 14,
   "id": "72af787a",
   "metadata": {},
   "outputs": [
    {
     "name": "stdout",
     "output_type": "stream",
     "text": [
      "enter a number 78\n",
      "<class 'str'>\n"
     ]
    }
   ],
   "source": [
    "num= input('enter a number ')\n",
    "print(type(num)) #always STRING DATA "
   ]
  },
  {
   "cell_type": "code",
   "execution_count": 15,
   "id": "d03875b1",
   "metadata": {},
   "outputs": [
    {
     "name": "stdout",
     "output_type": "stream",
     "text": [
      "enter a number 7\n",
      "<class 'int'>\n"
     ]
    }
   ],
   "source": [
    "#TYPECASTING \n",
    "num= input('enter a number ')\n",
    "num= int(num)\n",
    "print(type(num)) "
   ]
  },
  {
   "cell_type": "code",
   "execution_count": 16,
   "id": "5576abe2",
   "metadata": {},
   "outputs": [
    {
     "name": "stdout",
     "output_type": "stream",
     "text": [
      "True\n",
      "False\n",
      "True\n",
      "False\n",
      "False\n"
     ]
    }
   ],
   "source": [
    "#isdigit() is to chekc for VALID POSIITVE INTEGER\n",
    "print('4'.isdigit())\n",
    "print('4.44'.isdigit())\n",
    "print('4666'.isdigit())\n",
    "print('4.0'.isdigit())\n",
    "print('-4'.isdigit())"
   ]
  },
  {
   "cell_type": "code",
   "execution_count": 17,
   "id": "31ff256e",
   "metadata": {},
   "outputs": [
    {
     "name": "stdout",
     "output_type": "stream",
     "text": [
      "True\n",
      "True\n",
      "False\n"
     ]
    }
   ],
   "source": [
    "#for valid floating point num\n",
    "print('4.4'.replace('.','').isdigit())\n",
    "print('4.04'.replace('.','',1).isdigit())\n",
    "print('4...4'.replace('.','',1).isdigit())"
   ]
  },
  {
   "cell_type": "code",
   "execution_count": 18,
   "id": "0ab81032",
   "metadata": {},
   "outputs": [
    {
     "data": {
      "text/plain": [
       "4.666666666666667"
      ]
     },
     "execution_count": 18,
     "metadata": {},
     "output_type": "execute_result"
    }
   ],
   "source": [
    "14/3\n"
   ]
  },
  {
   "cell_type": "code",
   "execution_count": 19,
   "id": "ae844eaf",
   "metadata": {},
   "outputs": [
    {
     "data": {
      "text/plain": [
       "4"
      ]
     },
     "execution_count": 19,
     "metadata": {},
     "output_type": "execute_result"
    }
   ],
   "source": [
    "14//3"
   ]
  },
  {
   "cell_type": "code",
   "execution_count": 20,
   "id": "56ff98b2",
   "metadata": {},
   "outputs": [],
   "source": [
    "#not, and , or -> precedncy"
   ]
  },
  {
   "cell_type": "code",
   "execution_count": 21,
   "id": "a21ca055",
   "metadata": {},
   "outputs": [
    {
     "data": {
      "text/plain": [
       "'0b1000'"
      ]
     },
     "execution_count": 21,
     "metadata": {},
     "output_type": "execute_result"
    }
   ],
   "source": [
    "bin(8)"
   ]
  },
  {
   "cell_type": "code",
   "execution_count": 22,
   "id": "8df80c2f",
   "metadata": {},
   "outputs": [
    {
     "name": "stdout",
     "output_type": "stream",
     "text": [
      "4\n",
      "1\n"
     ]
    }
   ],
   "source": [
    "num=2\n",
    "print(num<<1) #multiply by 2 \n",
    "print(num>>1) #divide by 2"
   ]
  },
  {
   "cell_type": "code",
   "execution_count": 23,
   "id": "8fce30dc",
   "metadata": {},
   "outputs": [
    {
     "data": {
      "text/plain": [
       "'programming'"
      ]
     },
     "execution_count": 23,
     "metadata": {},
     "output_type": "execute_result"
    }
   ],
   "source": [
    "string = \"programming\"\n",
    "string"
   ]
  },
  {
   "cell_type": "code",
   "execution_count": 24,
   "id": "b06d7949",
   "metadata": {},
   "outputs": [
    {
     "name": "stdout",
     "output_type": "stream",
     "text": [
      "p\n"
     ]
    }
   ],
   "source": [
    "#Getting one character of the string\n",
    "\n",
    "print(string[0:1])"
   ]
  },
  {
   "cell_type": "code",
   "execution_count": 25,
   "id": "78c4b2bf",
   "metadata": {},
   "outputs": [
    {
     "name": "stdout",
     "output_type": "stream",
     "text": [
      "pro\n"
     ]
    }
   ],
   "source": [
    "#Getting the first three characters from the string\n",
    "\n",
    "print(string[0:3])"
   ]
  },
  {
   "cell_type": "code",
   "execution_count": 26,
   "id": "be773177",
   "metadata": {},
   "outputs": [
    {
     "name": "stdout",
     "output_type": "stream",
     "text": [
      "pro\n"
     ]
    }
   ],
   "source": [
    "#Getting the first three characters from the string (Alternate)\n",
    "\n",
    "print(string[:3])"
   ]
  },
  {
   "cell_type": "code",
   "execution_count": 27,
   "id": "a1c389b5",
   "metadata": {},
   "outputs": [
    {
     "name": "stdout",
     "output_type": "stream",
     "text": [
      "ing\n"
     ]
    }
   ],
   "source": [
    "#Getting the last three characters from the string\n",
    "\n",
    "print(string[-3:])"
   ]
  },
  {
   "cell_type": "code",
   "execution_count": 28,
   "id": "cf3c9a27",
   "metadata": {},
   "outputs": [
    {
     "name": "stdout",
     "output_type": "stream",
     "text": [
      "gramming\n"
     ]
    }
   ],
   "source": [
    "#Getting all characters but excluding three first characters from the string\n",
    "\n",
    "print(string[3:])"
   ]
  },
  {
   "cell_type": "code",
   "execution_count": 29,
   "id": "1c867dde",
   "metadata": {},
   "outputs": [
    {
     "name": "stdout",
     "output_type": "stream",
     "text": [
      "programm\n"
     ]
    }
   ],
   "source": [
    "#Getting all characters but excluding the last three characters from the string\n",
    "\n",
    "print(string[:-3])"
   ]
  },
  {
   "cell_type": "code",
   "execution_count": 30,
   "id": "6e20df32",
   "metadata": {},
   "outputs": [
    {
     "name": "stdout",
     "output_type": "stream",
     "text": [
      "gnimmargorp\n"
     ]
    }
   ],
   "source": [
    "#Reversing all the characters in a given string\n",
    "\n",
    "print(string[::-1])"
   ]
  },
  {
   "cell_type": "code",
   "execution_count": 31,
   "id": "ce997615",
   "metadata": {},
   "outputs": [
    {
     "name": "stdout",
     "output_type": "stream",
     "text": [
      "programming\n"
     ]
    }
   ],
   "source": [
    "#Alternative to printing all characters in a string\n",
    "\n",
    "print(string[::])"
   ]
  },
  {
   "cell_type": "code",
   "execution_count": 32,
   "id": "588b7419",
   "metadata": {},
   "outputs": [
    {
     "data": {
      "text/plain": [
       "'Python'"
      ]
     },
     "execution_count": 32,
     "metadata": {},
     "output_type": "execute_result"
    }
   ],
   "source": [
    "string = \"python\"\n",
    "string= string.capitalize()\n",
    "string\n",
    "     "
   ]
  },
  {
   "cell_type": "code",
   "execution_count": 33,
   "id": "a9305fba",
   "metadata": {},
   "outputs": [
    {
     "name": "stdout",
     "output_type": "stream",
     "text": [
      "*****python****\n"
     ]
    }
   ],
   "source": [
    "string = \"python\"\n",
    "\n",
    "print(string.center(15, '*'))"
   ]
  },
  {
   "cell_type": "code",
   "execution_count": 34,
   "id": "d9e0b461",
   "metadata": {},
   "outputs": [
    {
     "name": "stdout",
     "output_type": "stream",
     "text": [
      "python programming is easy\n"
     ]
    }
   ],
   "source": [
    "string = \"     python programming is easy    \"\n",
    "print(string.strip())"
   ]
  },
  {
   "cell_type": "markdown",
   "id": "e15ccd83",
   "metadata": {},
   "source": [
    "### Pyhton Lists-"
   ]
  },
  {
   "cell_type": "code",
   "execution_count": 35,
   "id": "0c329b39",
   "metadata": {},
   "outputs": [
    {
     "name": "stdout",
     "output_type": "stream",
     "text": [
      "[1, 2, 3, 'Tanu', 4.0, 2.0]\n",
      "<class 'list'>\n"
     ]
    }
   ],
   "source": [
    "li= [1, 2, 3, \"Tanu\", 4.0, 4/2]\n",
    "print(li)\n",
    "print(type(li))"
   ]
  },
  {
   "cell_type": "code",
   "execution_count": 36,
   "id": "56c2aeec",
   "metadata": {},
   "outputs": [
    {
     "name": "stdout",
     "output_type": "stream",
     "text": [
      "['Tanu', 'Nanda', 'Prabhu']\n",
      "Tanu\n",
      "3\n",
      "Nanda 5\n"
     ]
    }
   ],
   "source": [
    "name = [\"Tanu\", \"Nanda\", \"Prabhu\"]\n",
    "print(name)\n",
    "print(name[0])\n",
    "print(len(name))\n",
    "print(name[1], len(name[1]))"
   ]
  },
  {
   "cell_type": "code",
   "execution_count": 37,
   "id": "db70317c",
   "metadata": {},
   "outputs": [
    {
     "name": "stdout",
     "output_type": "stream",
     "text": [
      "['Mercedes', 'BMW', 'Audi', 'Honda', 'Yamaha', 'Aprilla']\n"
     ]
    }
   ],
   "source": [
    "cars = [\"Mercedes\", \"BMW\", \"Audi\"]\n",
    "bikes = [\"Honda\", \"Yamaha\", \"Aprilla\"]\n",
    "\n",
    "cars_bikes= cars + bikes\n",
    "print(cars_bikes)"
   ]
  },
  {
   "cell_type": "code",
   "execution_count": 38,
   "id": "ea222adc",
   "metadata": {},
   "outputs": [
    {
     "data": {
      "text/plain": [
       "['Mercedes', 'BMW', 'Audi', 'Tata']"
      ]
     },
     "execution_count": 38,
     "metadata": {},
     "output_type": "execute_result"
    }
   ],
   "source": [
    "#List append method\n",
    "cars = [\"Mercedes\", \"BMW\", \"Audi\"]\n",
    "\n",
    "cars.append('Tata')\n",
    "cars"
   ]
  },
  {
   "cell_type": "code",
   "execution_count": 39,
   "id": "a679f4b6",
   "metadata": {},
   "outputs": [
    {
     "data": {
      "text/plain": [
       "['Mercedes', 'BMW', 'Hondaaa', 'Audi', 'Tata']"
      ]
     },
     "execution_count": 39,
     "metadata": {},
     "output_type": "execute_result"
    }
   ],
   "source": [
    "#List insert method\n",
    "cars.insert(2,'Hondaaa')\n",
    "cars"
   ]
  },
  {
   "cell_type": "code",
   "execution_count": 40,
   "id": "8a0feed6",
   "metadata": {},
   "outputs": [
    {
     "data": {
      "text/plain": [
       "['Mercedes', 'BMW', 'Hondaaa', 'Audi', 'Tata', 'V', 'o', 'l', 'k', 's']"
      ]
     },
     "execution_count": 40,
     "metadata": {},
     "output_type": "execute_result"
    }
   ],
   "source": [
    "#List extend method\n",
    "cars.extend('Volks')\n",
    "cars"
   ]
  },
  {
   "cell_type": "code",
   "execution_count": 41,
   "id": "a044bb32",
   "metadata": {},
   "outputs": [
    {
     "data": {
      "text/plain": [
       "['Mercedes',\n",
       " 'BMW',\n",
       " 'Hondaaa',\n",
       " 'Audi',\n",
       " 'Tata',\n",
       " 'V',\n",
       " 'o',\n",
       " 'l',\n",
       " 'k',\n",
       " 's',\n",
       " 'Volks']"
      ]
     },
     "execution_count": 41,
     "metadata": {},
     "output_type": "execute_result"
    }
   ],
   "source": [
    "#List extend method\n",
    "cars.extend(['Volks'])\n",
    "cars"
   ]
  },
  {
   "cell_type": "code",
   "execution_count": 43,
   "id": "6cfca964",
   "metadata": {},
   "outputs": [
    {
     "name": "stdout",
     "output_type": "stream",
     "text": [
      "['Mercedes', 'BMW', 'Hondaaa', 'Audi', 'Tata', 'V', 'o', 'l', 'k', 's', 'Volks']\n"
     ]
    },
    {
     "data": {
      "text/plain": [
       "0"
      ]
     },
     "execution_count": 43,
     "metadata": {},
     "output_type": "execute_result"
    }
   ],
   "source": [
    "# List index method\n",
    "print(cars)\n",
    "cars.index('Mercedes')\n"
   ]
  },
  {
   "cell_type": "code",
   "execution_count": 44,
   "id": "45e679d9",
   "metadata": {},
   "outputs": [
    {
     "name": "stdout",
     "output_type": "stream",
     "text": [
      "['Audi', 'BMW', 'Hondaaa', 'Mercedes', 'Tata', 'V', 'Volks', 'k', 'l', 'o', 's']\n"
     ]
    }
   ],
   "source": [
    "# sort method\n",
    "\n",
    "cars.sort()\n",
    "print(cars)\n"
   ]
  },
  {
   "cell_type": "code",
   "execution_count": 45,
   "id": "e52afe88",
   "metadata": {},
   "outputs": [
    {
     "data": {
      "text/plain": [
       "[1, 2, 3, 4, 5]"
      ]
     },
     "execution_count": 45,
     "metadata": {},
     "output_type": "execute_result"
    }
   ],
   "source": [
    "# Creating a list called num\n",
    "num = [1, 2, 3, 4, 5]\n",
    "# Before Reversing\n",
    "num"
   ]
  },
  {
   "cell_type": "code",
   "execution_count": 46,
   "id": "5842ccb4",
   "metadata": {},
   "outputs": [
    {
     "data": {
      "text/plain": [
       "[5, 4, 3, 2, 1]"
      ]
     },
     "execution_count": 46,
     "metadata": {},
     "output_type": "execute_result"
    }
   ],
   "source": [
    "num.reverse()\n",
    "# After the reverse\n",
    "num"
   ]
  },
  {
   "cell_type": "code",
   "execution_count": 47,
   "id": "bb1b1596",
   "metadata": {},
   "outputs": [
    {
     "data": {
      "text/plain": [
       "2"
      ]
     },
     "execution_count": 47,
     "metadata": {},
     "output_type": "execute_result"
    }
   ],
   "source": [
    "#  List pop method\n",
    "\n",
    "num = [1, 2, 3, 4, 5]\n",
    "num.pop(1)"
   ]
  },
  {
   "cell_type": "code",
   "execution_count": 48,
   "id": "838a7776",
   "metadata": {},
   "outputs": [
    {
     "data": {
      "text/plain": [
       "['r', 'a', 'n', 'i', 's', 'i', 'k', 'd', 'a', 'r']"
      ]
     },
     "execution_count": 48,
     "metadata": {},
     "output_type": "execute_result"
    }
   ],
   "source": [
    "# List Slices\n",
    "\n",
    "char = ['r', 'a', 'n', 'i', 's', 'i', 'k', 'd', 'a', 'r']\n",
    "char"
   ]
  },
  {
   "cell_type": "code",
   "execution_count": 49,
   "id": "a8b318ad",
   "metadata": {},
   "outputs": [
    {
     "data": {
      "text/plain": [
       "['r', 'a', 'n', 'i', 's', 'i', 'k', 'd', 'a', 'r']"
      ]
     },
     "execution_count": 49,
     "metadata": {},
     "output_type": "execute_result"
    }
   ],
   "source": [
    "char[:]"
   ]
  },
  {
   "cell_type": "code",
   "execution_count": 50,
   "id": "08eaa1e5",
   "metadata": {},
   "outputs": [
    {
     "data": {
      "text/plain": [
       "['r', 'a', 'n', 'i', 's']"
      ]
     },
     "execution_count": 50,
     "metadata": {},
     "output_type": "execute_result"
    }
   ],
   "source": [
    "char[0:5]"
   ]
  },
  {
   "cell_type": "code",
   "execution_count": 51,
   "id": "c4e47ce5",
   "metadata": {},
   "outputs": [
    {
     "data": {
      "text/plain": [
       "['r', 'a', 'n', 'i', 's', 'i', 'k']"
      ]
     },
     "execution_count": 51,
     "metadata": {},
     "output_type": "execute_result"
    }
   ],
   "source": [
    "char[:-3]"
   ]
  },
  {
   "cell_type": "code",
   "execution_count": 52,
   "id": "e685d4af",
   "metadata": {},
   "outputs": [
    {
     "data": {
      "text/plain": [
       "['r', 'a', 'd', 'k', 'i', 's', 'i', 'n', 'a', 'r']"
      ]
     },
     "execution_count": 52,
     "metadata": {},
     "output_type": "execute_result"
    }
   ],
   "source": [
    "char[::-1]"
   ]
  },
  {
   "cell_type": "code",
   "execution_count": 53,
   "id": "17e658f4",
   "metadata": {},
   "outputs": [
    {
     "data": {
      "text/plain": [
       "['a', 'n', 'i', 's', 'i', 'k', 'd', 'a']"
      ]
     },
     "execution_count": 53,
     "metadata": {},
     "output_type": "execute_result"
    }
   ],
   "source": [
    "char[1:-1]"
   ]
  },
  {
   "cell_type": "code",
   "execution_count": 55,
   "id": "fa83f324",
   "metadata": {},
   "outputs": [
    {
     "data": {
      "text/plain": [
       "str"
      ]
     },
     "execution_count": 55,
     "metadata": {},
     "output_type": "execute_result"
    }
   ],
   "source": [
    "# Converting a string to a list\n",
    "\n",
    "string= 'rani'\n",
    "# Checking for the type \n",
    "type(string)"
   ]
  },
  {
   "cell_type": "code",
   "execution_count": 56,
   "id": "6ad8f0d1",
   "metadata": {},
   "outputs": [
    {
     "name": "stdout",
     "output_type": "stream",
     "text": [
      "['rani']\n",
      "<class 'list'>\n"
     ]
    }
   ],
   "source": [
    "name = list(string.split(\" \")) \n",
    "print(name)\n",
    "print(type(name))"
   ]
  },
  {
   "cell_type": "markdown",
   "id": "38590efa",
   "metadata": {},
   "source": [
    " ### Pyhton Tuples-"
   ]
  },
  {
   "cell_type": "code",
   "execution_count": 57,
   "id": "1ef2d145",
   "metadata": {},
   "outputs": [
    {
     "data": {
      "text/plain": [
       "'cc'"
      ]
     },
     "execution_count": 57,
     "metadata": {},
     "output_type": "execute_result"
    }
   ],
   "source": [
    "tuple1= ('aa', 'bb', 'cc', 'dd')\n",
    "tuple1[2]"
   ]
  },
  {
   "cell_type": "code",
   "execution_count": 58,
   "id": "ebd34772",
   "metadata": {},
   "outputs": [
    {
     "name": "stdout",
     "output_type": "stream",
     "text": [
      "(('aa', 'bb', 'cc', 'dd'), ('11', '22', '33', '44'))\n"
     ]
    }
   ],
   "source": [
    "tuple1= ('aa', 'bb', 'cc', 'dd')\n",
    "tuple2= ('11', '22', '33', '44')\n",
    "\n",
    "nest_= tuple1, tuple2\n",
    "print(nest_)"
   ]
  },
  {
   "cell_type": "code",
   "execution_count": 61,
   "id": "3d1693e2",
   "metadata": {},
   "outputs": [
    {
     "name": "stdout",
     "output_type": "stream",
     "text": [
      "('aa', 'bb', 'cc', 'dd')\n"
     ]
    }
   ],
   "source": [
    "# TUPLES ARE IMMUTABLE\n",
    "tuple1= ('aa', 'bb', 'cc', 'dd')\n",
    "# tuple1[2]= 'zz'  # ERROR WILL BE THROWN\n",
    "print(tuple1)"
   ]
  },
  {
   "cell_type": "code",
   "execution_count": 62,
   "id": "5d297711",
   "metadata": {},
   "outputs": [
    {
     "name": "stdout",
     "output_type": "stream",
     "text": [
      "[('aa', 'bb', 'cc', 'dd'), ('aa', 'bb', 'cc', 'dd'), ('aa', 'bb', 'cc', 'dd')]\n"
     ]
    }
   ],
   "source": [
    "tuple1= [('aa', 'bb', 'cc', 'dd'), ('aa', 'bb', 'cc', 'dd'), ('aa', 'bb', 'cc', 'dd')]\n",
    "print(tuple1)"
   ]
  },
  {
   "cell_type": "code",
   "execution_count": 63,
   "id": "3982429a",
   "metadata": {},
   "outputs": [
    {
     "name": "stdout",
     "output_type": "stream",
     "text": [
      "aa\n",
      "bb\n",
      "cc\n",
      "dd\n"
     ]
    }
   ],
   "source": [
    "tuple1= ('aa', 'bb', 'cc', 'dd')\n",
    "for t in tuple1:\n",
    "    print(t)"
   ]
  },
  {
   "cell_type": "markdown",
   "id": "d5a9a35c",
   "metadata": {},
   "source": [
    "### access the index of the tuple using a loop"
   ]
  },
  {
   "cell_type": "code",
   "execution_count": 68,
   "id": "ff9a5b01",
   "metadata": {},
   "outputs": [
    {
     "name": "stdout",
     "output_type": "stream",
     "text": [
      "0 aa\n",
      "1 bb\n",
      "2 cc\n",
      "3 dd\n",
      "4 ee\n",
      "5 ff\n",
      "6 gg\n"
     ]
    }
   ],
   "source": [
    "tuple1= ('aa', 'bb', 'cc', 'dd', 'ee', 'ff', 'gg')\n",
    "tuple1\n",
    "for counter, value in enumerate(tuple1):\n",
    "    print(counter, value)"
   ]
  },
  {
   "cell_type": "code",
   "execution_count": null,
   "id": "14bdcffa",
   "metadata": {},
   "outputs": [
    {
     "name": "stdout",
     "output_type": "stream",
     "text": [
      "<class 'tuple'>\n"
     ]
    }
   ],
   "source": [
    "\n",
    "# Deleting an entire tuple using del\n",
    "\n",
    "tuple = ('aa', 'bb', 'cc', 'dd', 'ee', 'ff', 'gg')\n",
    "del(tuple)\n",
    "print(tuple)"
   ]
  },
  {
   "cell_type": "code",
   "execution_count": 70,
   "id": "6dfa3c71",
   "metadata": {},
   "outputs": [],
   "source": [
    "tuple = ('aa', 'bb', 'cc', 'dd', 'ee', 'ff', 'gg', 'aa')\n",
    "print(tuple.count('aa'))"
   ]
  },
  {
   "cell_type": "code",
   "execution_count": 71,
   "id": "1a5177f8",
   "metadata": {},
   "outputs": [
    {
     "name": "stdout",
     "output_type": "stream",
     "text": [
      "0\n"
     ]
    }
   ],
   "source": [
    "print(tuple.index('aa'))"
   ]
  },
  {
   "cell_type": "code",
   "execution_count": 72,
   "id": "817328df",
   "metadata": {},
   "outputs": [
    {
     "name": "stdout",
     "output_type": "stream",
     "text": [
      "False\n"
     ]
    }
   ],
   "source": [
    "tuple = ('aa', 'bb', 'cc', 'dd', 'ee', 'ff', 'gg', 'aa')\n",
    "\n",
    "if 'zz' in tuple:\n",
    "    print (True)\n",
    "    print(tuple.index('zz'))\n",
    "else:\n",
    "    print(False)\n"
   ]
  },
  {
   "cell_type": "code",
   "execution_count": 73,
   "id": "823285d7",
   "metadata": {},
   "outputs": [
    {
     "name": "stdout",
     "output_type": "stream",
     "text": [
      "True\n",
      "3\n"
     ]
    }
   ],
   "source": [
    "tuple = ('aa', 'bb', 'cc', 'dd', 'ee', 'ff', 'gg', 'aa')\n",
    "\n",
    "if 'dd' in tuple:\n",
    "    print (True)\n",
    "    print(tuple.index('dd'))\n",
    "else:\n",
    "    print(False)"
   ]
  },
  {
   "cell_type": "markdown",
   "id": "c2dce831",
   "metadata": {},
   "source": [
    "## Python Dictionaries"
   ]
  },
  {
   "cell_type": "code",
   "execution_count": 74,
   "id": "10d833c2",
   "metadata": {},
   "outputs": [
    {
     "name": "stdout",
     "output_type": "stream",
     "text": [
      "{'Name': 'Rani', 'Sex': 'Female', 'Age': 23}\n"
     ]
    }
   ],
   "source": [
    "dictionary = {}\n",
    "dictionary = {'Name': 'Rani', 'Sex': 'Female', 'Age': 23}\n",
    "print(dictionary)"
   ]
  },
  {
   "cell_type": "code",
   "execution_count": 75,
   "id": "b0dcce7b",
   "metadata": {},
   "outputs": [
    {
     "name": "stdout",
     "output_type": "stream",
     "text": [
      "Rani\n"
     ]
    }
   ],
   "source": [
    "\n",
    "print(dictionary['Name'])"
   ]
  },
  {
   "cell_type": "code",
   "execution_count": 76,
   "id": "44b0ab83",
   "metadata": {},
   "outputs": [
    {
     "name": "stdout",
     "output_type": "stream",
     "text": [
      "23\n"
     ]
    }
   ],
   "source": [
    "\n",
    "print(dictionary.get('Age'))"
   ]
  },
  {
   "cell_type": "code",
   "execution_count": 77,
   "id": "767b1766",
   "metadata": {},
   "outputs": [],
   "source": [
    "dictionary = {'Name': 'Rani', 'Sex': 'Female', 'Age': 23}"
   ]
  },
  {
   "cell_type": "code",
   "execution_count": 78,
   "id": "740af8e6",
   "metadata": {},
   "outputs": [
    {
     "name": "stdout",
     "output_type": "stream",
     "text": [
      "{'Sex': 'Female', 'Age': 23}\n"
     ]
    }
   ],
   "source": [
    "del dictionary['Name']\n",
    "print(dictionary)"
   ]
  },
  {
   "cell_type": "code",
   "execution_count": 79,
   "id": "f5f3900f",
   "metadata": {},
   "outputs": [
    {
     "name": "stdout",
     "output_type": "stream",
     "text": [
      "('Age', 23)\n"
     ]
    }
   ],
   "source": [
    "\n",
    "# Popping an item\n",
    "\n",
    "print(dictionary.popitem())"
   ]
  },
  {
   "cell_type": "code",
   "execution_count": 80,
   "id": "81060051",
   "metadata": {},
   "outputs": [
    {
     "name": "stdout",
     "output_type": "stream",
     "text": [
      "Female\n"
     ]
    }
   ],
   "source": [
    "\n",
    "# Popping the value\n",
    "\n",
    "print(dictionary.pop('Sex'))"
   ]
  },
  {
   "cell_type": "code",
   "execution_count": 81,
   "id": "bae93e6d",
   "metadata": {},
   "outputs": [
    {
     "name": "stdout",
     "output_type": "stream",
     "text": [
      "{}\n"
     ]
    }
   ],
   "source": [
    "\n",
    "# Clearing the entire dictionary\n",
    "\n",
    "dictionary.clear()\n",
    "print(dictionary)"
   ]
  },
  {
   "cell_type": "code",
   "execution_count": 82,
   "id": "a82fca15",
   "metadata": {},
   "outputs": [
    {
     "name": "stdout",
     "output_type": "stream",
     "text": [
      "Rani\n",
      "Female\n",
      "23\n"
     ]
    }
   ],
   "source": [
    "dictionary = {'Name': 'Rani', 'Sex': 'Female', 'Age': 23}\n",
    "\n",
    "# Iterating through the values\n",
    "\n",
    "for i in dictionary:\n",
    "    print(dictionary[i])"
   ]
  },
  {
   "cell_type": "code",
   "execution_count": 83,
   "id": "1b2c2399",
   "metadata": {},
   "outputs": [
    {
     "name": "stdout",
     "output_type": "stream",
     "text": [
      "Name\n",
      "Sex\n",
      "Age\n"
     ]
    }
   ],
   "source": [
    "# Iterating through the keys\n",
    "\n",
    "for i in dictionary:\n",
    "    print(i)"
   ]
  },
  {
   "cell_type": "code",
   "execution_count": 84,
   "id": "4767b0e6",
   "metadata": {},
   "outputs": [
    {
     "name": "stdout",
     "output_type": "stream",
     "text": [
      "True\n"
     ]
    }
   ],
   "source": [
    "\n",
    "print(all(dictionary))"
   ]
  },
  {
   "cell_type": "code",
   "execution_count": 85,
   "id": "b4483446",
   "metadata": {},
   "outputs": [
    {
     "name": "stdout",
     "output_type": "stream",
     "text": [
      "3\n"
     ]
    }
   ],
   "source": [
    "\n",
    "print(len(dictionary))"
   ]
  },
  {
   "cell_type": "code",
   "execution_count": 86,
   "id": "f4415893",
   "metadata": {},
   "outputs": [
    {
     "name": "stdout",
     "output_type": "stream",
     "text": [
      "['Age', 'Name', 'Sex']\n"
     ]
    }
   ],
   "source": [
    "\n",
    "# Sorting in a ascending order\n",
    "\n",
    "print(sorted(dictionary))"
   ]
  },
  {
   "cell_type": "code",
   "execution_count": 87,
   "id": "58a46bc5",
   "metadata": {},
   "outputs": [
    {
     "name": "stdout",
     "output_type": "stream",
     "text": [
      "['Sex', 'Name', 'Age']\n"
     ]
    }
   ],
   "source": [
    "# Sorting in a descending order\n",
    "\n",
    "print(sorted(dictionary, reverse = True))"
   ]
  },
  {
   "cell_type": "code",
   "execution_count": 88,
   "id": "0f6ee278",
   "metadata": {},
   "outputs": [
    {
     "name": "stdout",
     "output_type": "stream",
     "text": [
      "{'Name': 'Rani', 'Sex': 'Female', 'Age': 23}\n"
     ]
    }
   ],
   "source": [
    "dict_2= dictionary.copy()\n",
    "\n",
    "print(dict_2)"
   ]
  },
  {
   "cell_type": "code",
   "execution_count": 89,
   "id": "d684647e",
   "metadata": {},
   "outputs": [
    {
     "name": "stdout",
     "output_type": "stream",
     "text": [
      "dict_keys(['Name', 'Sex', 'Age'])\n"
     ]
    }
   ],
   "source": [
    "print(dict_2.keys())\n"
   ]
  },
  {
   "cell_type": "code",
   "execution_count": 90,
   "id": "d572ac71",
   "metadata": {},
   "outputs": [
    {
     "name": "stdout",
     "output_type": "stream",
     "text": [
      "dict_values(['Rani', 'Female', 23])\n"
     ]
    }
   ],
   "source": [
    "print(dict_2.values())"
   ]
  },
  {
   "cell_type": "markdown",
   "id": "c0f7155b",
   "metadata": {},
   "source": [
    "### Python Operators"
   ]
  },
  {
   "cell_type": "code",
   "execution_count": 91,
   "id": "3b456fc7",
   "metadata": {},
   "outputs": [
    {
     "name": "stdout",
     "output_type": "stream",
     "text": [
      "a > b = True\n",
      "a < b = False\n",
      "a == b = False\n",
      "a != b = True\n",
      "a >= b = True\n",
      "a <= b = False\n"
     ]
    }
   ],
   "source": [
    "# operator\n",
    "a = 10\n",
    "b = 5\n",
    "# Greater than\n",
    "print('a > b =', a > b)\n",
    "# Lesser than\n",
    "print('a < b =', a < b)\n",
    "# Equal to\n",
    "print('a == b =', a == b)\n",
    "# Not equal to\n",
    "print('a != b =', a != b)\n",
    "# Greater than or equal to\n",
    "print('a >= b =', a >= b)\n",
    "# Lesser than or equal to\n",
    "print('a <= b =', a <= b)\n"
   ]
  },
  {
   "cell_type": "code",
   "execution_count": 92,
   "id": "6ec3d0ba",
   "metadata": {},
   "outputs": [
    {
     "name": "stdout",
     "output_type": "stream",
     "text": [
      "a and b is False\n",
      "a or b is True\n",
      "not a is False\n"
     ]
    }
   ],
   "source": [
    "\n",
    "a = True\n",
    "b = False\n",
    "# Logical and\n",
    "print('a and b is',a and b)\n",
    "# Logical or\n",
    "print('a or b is',a or b)\n",
    "# Logical not\n",
    "print('not a is',not a)"
   ]
  },
  {
   "cell_type": "code",
   "execution_count": 93,
   "id": "72f5164a",
   "metadata": {},
   "outputs": [
    {
     "data": {
      "text/plain": [
       "''"
      ]
     },
     "execution_count": 93,
     "metadata": {},
     "output_type": "execute_result"
    }
   ],
   "source": [
    "# Logical “and” operator on Strings\n",
    "a = \"\"\n",
    "b = \"Python\"\n",
    "a and b"
   ]
  },
  {
   "cell_type": "code",
   "execution_count": 94,
   "id": "c32ff56a",
   "metadata": {},
   "outputs": [
    {
     "data": {
      "text/plain": [
       "'Python'"
      ]
     },
     "execution_count": 94,
     "metadata": {},
     "output_type": "execute_result"
    }
   ],
   "source": [
    "# Logical “or” operator on Strings\n",
    "\n",
    "a = \"\"\n",
    "b = \"Python\"\n",
    "a or b"
   ]
  },
  {
   "cell_type": "code",
   "execution_count": 96,
   "id": "afa46c50",
   "metadata": {},
   "outputs": [
    {
     "name": "stdout",
     "output_type": "stream",
     "text": [
      "a & b is 10\n",
      "a | b is 11\n",
      "a ^ b is 1\n",
      "~a is -11\n",
      "a << b is 20480\n",
      "a >> b is 0\n"
     ]
    }
   ],
   "source": [
    "# bitwise operator examples\n",
    "\n",
    "a = 10\n",
    "b = 11\n",
    "# Bitwise AND\n",
    "print('a & b is',a & b)\n",
    "# Bitwise OR\n",
    "print('a | b is',a | b)\n",
    "# Bitwise XOR\n",
    "print('a ^ b is',a ^ b)\n",
    "# Bitwise NOT\n",
    "print('~a is',~a)\n",
    "# Bitwise Left Shift\n",
    "print('a << b is',a << b)\n",
    "# Bitwise Right Shift\n",
    "print('a >> b is',a >> b)"
   ]
  },
  {
   "cell_type": "markdown",
   "id": "8878d45f",
   "metadata": {},
   "source": [
    "### Identity Operators"
   ]
  },
  {
   "cell_type": "code",
   "execution_count": 97,
   "id": "f1802c8c",
   "metadata": {},
   "outputs": [
    {
     "name": "stdout",
     "output_type": "stream",
     "text": [
      "a is b is False\n",
      "a is not b is True\n"
     ]
    }
   ],
   "source": [
    "a = 10\n",
    "b = 11\n",
    "# Identity is operator\n",
    "print('a is b is',a is b)\n",
    "# Identity is not operator\n",
    "print('a is not b is',a is not b)"
   ]
  },
  {
   "cell_type": "code",
   "execution_count": 99,
   "id": "424ec758",
   "metadata": {},
   "outputs": [
    {
     "name": "stdout",
     "output_type": "stream",
     "text": [
      "2254803528112\n",
      "2254803528080\n",
      "2254803528112\n",
      "True\n"
     ]
    }
   ],
   "source": [
    "\n",
    "a = 5\n",
    "b = 4\n",
    "c = a\n",
    "# Getting the id of the variables\n",
    "print(id(a))\n",
    "print(id(b))\n",
    "print(id(c))\n",
    "# Comparing the id of a and c\n",
    "print(a is c)"
   ]
  },
  {
   "cell_type": "markdown",
   "id": "87d7647b",
   "metadata": {},
   "source": [
    "### Membership Operators\n"
   ]
  },
  {
   "cell_type": "code",
   "execution_count": 100,
   "id": "6b00826b",
   "metadata": {},
   "outputs": [
    {
     "name": "stdout",
     "output_type": "stream",
     "text": [
      "<class 'str'>\n",
      "True\n",
      "True\n"
     ]
    }
   ],
   "source": [
    "a = \"Python\"\n",
    "# Type of the variable\n",
    "print(type(a))\n",
    "# Checking whether 'y' is present in the variable a or not\n",
    "print('y' in a)\n",
    "# Checking whether 'P' is present in the variable a or not\n",
    "print('p' not in a)"
   ]
  },
  {
   "cell_type": "code",
   "execution_count": 101,
   "id": "f8aff8d1",
   "metadata": {},
   "outputs": [
    {
     "name": "stdout",
     "output_type": "stream",
     "text": [
      "True\n",
      "True\n"
     ]
    }
   ],
   "source": [
    "# Dictionary with key as 1, 2 and values as 'A' and 'B'\n",
    "a = {1: \"A\", 2: 'B'}\n",
    "# Using 'in' operator\n",
    "print(2 in a)\n",
    "# Using 'not in' operator\n",
    "print(3 not in a)"
   ]
  },
  {
   "cell_type": "code",
   "execution_count": null,
   "id": "2183e5d9",
   "metadata": {},
   "outputs": [],
   "source": []
  },
  {
   "cell_type": "code",
   "execution_count": null,
   "id": "acaa99e9",
   "metadata": {},
   "outputs": [],
   "source": []
  },
  {
   "cell_type": "code",
   "execution_count": null,
   "id": "7bfa8cbc",
   "metadata": {},
   "outputs": [],
   "source": []
  },
  {
   "cell_type": "code",
   "execution_count": null,
   "id": "0ad7e561",
   "metadata": {},
   "outputs": [],
   "source": []
  }
 ],
 "metadata": {
  "kernelspec": {
   "display_name": "Python 3 (ipykernel)",
   "language": "python",
   "name": "python3"
  },
  "language_info": {
   "codemirror_mode": {
    "name": "ipython",
    "version": 3
   },
   "file_extension": ".py",
   "mimetype": "text/x-python",
   "name": "python",
   "nbconvert_exporter": "python",
   "pygments_lexer": "ipython3",
   "version": "3.9.18"
  }
 },
 "nbformat": 4,
 "nbformat_minor": 5
}
