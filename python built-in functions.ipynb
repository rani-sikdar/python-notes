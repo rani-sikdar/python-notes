{
 "cells": [
  {
   "cell_type": "markdown",
   "id": "60acbdf1",
   "metadata": {},
   "source": [
    "### Python built-in functions"
   ]
  },
  {
   "cell_type": "code",
   "execution_count": 1,
   "id": "c7ce135d",
   "metadata": {},
   "outputs": [
    {
     "name": "stdout",
     "output_type": "stream",
     "text": [
      "range(0, 10)\n"
     ]
    }
   ],
   "source": [
    "\n",
    "x = range(10)\n",
    "print(x)\n",
    "     "
   ]
  },
  {
   "cell_type": "code",
   "execution_count": 2,
   "id": "3c11e68b",
   "metadata": {},
   "outputs": [
    {
     "name": "stdout",
     "output_type": "stream",
     "text": [
      "0\n",
      "1\n",
      "2\n",
      "3\n",
      "4\n",
      "5\n",
      "6\n",
      "7\n",
      "8\n",
      "9\n"
     ]
    }
   ],
   "source": [
    "\n",
    "x = range(10)\n",
    "for i in x:\n",
    "    print(i)"
   ]
  },
  {
   "cell_type": "code",
   "execution_count": 3,
   "id": "bc05907c",
   "metadata": {},
   "outputs": [
    {
     "name": "stdout",
     "output_type": "stream",
     "text": [
      "1\n",
      "2\n",
      "3\n",
      "4\n",
      "5\n",
      "6\n",
      "7\n",
      "8\n",
      "9\n"
     ]
    }
   ],
   "source": [
    "x = range(1, 10)\n",
    "for i in x:\n",
    "    print(i)"
   ]
  },
  {
   "cell_type": "code",
   "execution_count": 4,
   "id": "03ac79ee",
   "metadata": {},
   "outputs": [
    {
     "name": "stdout",
     "output_type": "stream",
     "text": [
      "1\n",
      "3\n",
      "5\n",
      "7\n",
      "9\n"
     ]
    }
   ],
   "source": [
    "x = range(1, 10, 2)\n",
    "for i in x:\n",
    "    print(i)"
   ]
  },
  {
   "cell_type": "code",
   "execution_count": 9,
   "id": "fb4bdb4e",
   "metadata": {},
   "outputs": [],
   "source": [
    "# range works on int value only, do not pass float values inside range"
   ]
  },
  {
   "cell_type": "code",
   "execution_count": 6,
   "id": "a29bf53e",
   "metadata": {},
   "outputs": [
    {
     "name": "stdout",
     "output_type": "stream",
     "text": [
      "10\n",
      "11\n",
      "12\n",
      "13\n",
      "14\n"
     ]
    }
   ],
   "source": [
    "x = range(int(10.0), int(15.5))\n",
    "for i in x:\n",
    "    print(i)"
   ]
  },
  {
   "cell_type": "code",
   "execution_count": 7,
   "id": "50bd78a1",
   "metadata": {},
   "outputs": [
    {
     "name": "stdout",
     "output_type": "stream",
     "text": [
      "0.0\n",
      "0.5\n",
      "1.0\n",
      "1.5\n",
      "2.0\n",
      "2.5\n",
      "3.0\n",
      "3.5\n",
      "4.0\n",
      "4.5\n",
      "5.0\n",
      "5.5\n",
      "6.0\n",
      "6.5\n",
      "7.0\n",
      "7.5\n",
      "8.0\n",
      "8.5\n",
      "9.0\n",
      "9.5\n"
     ]
    }
   ],
   "source": [
    "x = range(0, 10 * 2)\n",
    "for i in x:\n",
    "    print(i * 0.5)"
   ]
  },
  {
   "cell_type": "code",
   "execution_count": 8,
   "id": "ab876012",
   "metadata": {},
   "outputs": [],
   "source": [
    "# Python2 uses xrange() and Python3 uses range"
   ]
  },
  {
   "cell_type": "code",
   "execution_count": 10,
   "id": "e68148d2",
   "metadata": {},
   "outputs": [
    {
     "name": "stdout",
     "output_type": "stream",
     "text": [
      "Canada\n",
      "United States\n",
      "United Kingdom\n"
     ]
    }
   ],
   "source": [
    "\n",
    "names = ['India', 'Canada', 'United States', 'United Kingdom']\n",
    "for i in range(1, len(names)):\n",
    "    print(names[i])"
   ]
  },
  {
   "cell_type": "code",
   "execution_count": 11,
   "id": "af6da694",
   "metadata": {},
   "outputs": [
    {
     "name": "stdout",
     "output_type": "stream",
     "text": [
      "1\n",
      "3\n",
      "5\n",
      "7\n",
      "9\n"
     ]
    }
   ],
   "source": [
    "# incrementing\n",
    "x = range(1, 10, 2)\n",
    "for i in x:\n",
    "    print(i)"
   ]
  },
  {
   "cell_type": "code",
   "execution_count": 12,
   "id": "93628731",
   "metadata": {},
   "outputs": [
    {
     "name": "stdout",
     "output_type": "stream",
     "text": [
      "10\n",
      "8\n",
      "6\n",
      "4\n",
      "2\n"
     ]
    }
   ],
   "source": [
    "# decrementing\n",
    "x = range(10, 1, -2)\n",
    "for i in x:\n",
    "    print(i)"
   ]
  },
  {
   "cell_type": "markdown",
   "id": "d1ddf824",
   "metadata": {},
   "source": [
    "## Python Lambda Function\n",
    "\n",
    "- lambda argument: expression"
   ]
  },
  {
   "cell_type": "code",
   "execution_count": 13,
   "id": "ec811e06",
   "metadata": {},
   "outputs": [
    {
     "name": "stdout",
     "output_type": "stream",
     "text": [
      "40\n"
     ]
    }
   ],
   "source": [
    "add = lambda a: a + a\n",
    "print(add(20))"
   ]
  },
  {
   "cell_type": "code",
   "execution_count": 14,
   "id": "8e634540",
   "metadata": {},
   "outputs": [
    {
     "name": "stdout",
     "output_type": "stream",
     "text": [
      "30\n"
     ]
    }
   ],
   "source": [
    "add = lambda a, b, c: a + b + c\n",
    "print(add(10, 10, 10))"
   ]
  },
  {
   "cell_type": "code",
   "execution_count": 15,
   "id": "cf6c7448",
   "metadata": {},
   "outputs": [
    {
     "name": "stdout",
     "output_type": "stream",
     "text": [
      "300\n"
     ]
    }
   ],
   "source": [
    "def add(n):\n",
    "    return lambda a : a + n\n",
    "result = add(100)\n",
    "print(result(200))"
   ]
  },
  {
   "cell_type": "code",
   "execution_count": 16,
   "id": "ce43c3f1",
   "metadata": {},
   "outputs": [
    {
     "name": "stdout",
     "output_type": "stream",
     "text": [
      "300\n",
      "1 -------------------\n",
      "400\n",
      "2 -------------------\n",
      "500\n",
      "3 -------------------\n",
      "600\n"
     ]
    }
   ],
   "source": [
    "\n",
    "def add(n):\n",
    "    return lambda a : a + n\n",
    "result = add(100)\n",
    "print(result(200))\n",
    "print(\"1 -------------------\")\n",
    "print(result(300))\n",
    "print(\"2 -------------------\")\n",
    "print(result(400))\n",
    "print(\"3 -------------------\")\n",
    "print(result(500))"
   ]
  },
  {
   "cell_type": "markdown",
   "id": "bbb97ffd",
   "metadata": {},
   "source": [
    "## Python enumerate() built-in-function\n",
    "\n",
    "-enumerate(iterable, start)\n",
    "1. iterable: This is the name of the data structure that wish to iterate.\n",
    "2. start: This is the number where you want to start iterating the counter."
   ]
  },
  {
   "cell_type": "code",
   "execution_count": 17,
   "id": "34d0e8c9",
   "metadata": {},
   "outputs": [
    {
     "name": "stdout",
     "output_type": "stream",
     "text": [
      "<class 'list'>\n",
      "<class 'enumerate'>\n"
     ]
    }
   ],
   "source": [
    "programmming = [\"Python\", \"Programmming\", \"Is\", \"easy\"]\n",
    "print(type(programmming))\n",
    "enum = enumerate(programmming)\n",
    "print(type(enum))"
   ]
  },
  {
   "cell_type": "code",
   "execution_count": 18,
   "id": "5b4831e4",
   "metadata": {},
   "outputs": [
    {
     "name": "stdout",
     "output_type": "stream",
     "text": [
      "[(0, 'Python'), (1, 'Programmming'), (2, 'Is'), (3, 'easy')]\n"
     ]
    }
   ],
   "source": [
    "#Converting to a list\n",
    "print(list(enum))"
   ]
  },
  {
   "cell_type": "code",
   "execution_count": 22,
   "id": "a270a523",
   "metadata": {},
   "outputs": [
    {
     "name": "stdout",
     "output_type": "stream",
     "text": [
      "[(5, 'My'), (6, 'name'), (7, 'is'), (8, 'Rani'), (9, 'Sikdar')]\n"
     ]
    }
   ],
   "source": [
    "\n",
    "# Counter value starts from 5\n",
    "\n",
    "name= ['My', 'name', 'is', 'Rani', 'Sikdar']\n",
    "enum = enumerate(name, 5)\n",
    "print(list(enum))"
   ]
  },
  {
   "cell_type": "code",
   "execution_count": 24,
   "id": "a2513665",
   "metadata": {},
   "outputs": [
    {
     "name": "stdout",
     "output_type": "stream",
     "text": [
      "(0, 'Python')\n",
      "(1, 'Programmming')\n",
      "(2, 'Is')\n",
      "(3, 'easy')\n",
      "(4, 'to')\n",
      "(5, 'use')\n",
      "******\n",
      "(10, 'Python')\n",
      "(11, 'Programmming')\n",
      "(12, 'Is')\n",
      "(13, 'easy')\n",
      "(14, 'to')\n",
      "(15, 'use')\n"
     ]
    }
   ],
   "source": [
    "programmming = [\"Python\", \"Programmming\", \"Is\", \"easy\", \"to\", \"use\"]\n",
    "for i in enumerate(programmming):\n",
    "    print(i)\n",
    "print('******')\n",
    "for i in enumerate(programmming, 10):\n",
    "    print(i)"
   ]
  }
 ],
 "metadata": {
  "kernelspec": {
   "display_name": "Python 3 (ipykernel)",
   "language": "python",
   "name": "python3"
  },
  "language_info": {
   "codemirror_mode": {
    "name": "ipython",
    "version": 3
   },
   "file_extension": ".py",
   "mimetype": "text/x-python",
   "name": "python",
   "nbconvert_exporter": "python",
   "pygments_lexer": "ipython3",
   "version": "3.9.18"
  }
 },
 "nbformat": 4,
 "nbformat_minor": 5
}
