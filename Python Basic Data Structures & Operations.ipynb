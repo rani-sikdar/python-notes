{
 "cells": [
  {
   "cell_type": "code",
   "execution_count": 1,
   "id": "e0abad4d",
   "metadata": {},
   "outputs": [
    {
     "name": "stdout",
     "output_type": "stream",
     "text": [
      "<class 'int'>\n"
     ]
    }
   ],
   "source": [
    "val1= 5666\n",
    "print(type(val1))"
   ]
  },
  {
   "cell_type": "code",
   "execution_count": 2,
   "id": "1a0fa006",
   "metadata": {},
   "outputs": [
    {
     "data": {
      "text/plain": [
       "('string 1', 'string 2', 'string 3', 'string 4')"
      ]
     },
     "execution_count": 2,
     "metadata": {},
     "output_type": "execute_result"
    }
   ],
   "source": [
    "'string 1', 'string 2', 'string 3', 'string 4'"
   ]
  },
  {
   "cell_type": "code",
   "execution_count": 3,
   "id": "4223b9ff",
   "metadata": {},
   "outputs": [
    {
     "data": {
      "text/plain": [
       "'i love python'"
      ]
     },
     "execution_count": 3,
     "metadata": {},
     "output_type": "execute_result"
    }
   ],
   "source": [
    "'i love python'"
   ]
  },
  {
   "cell_type": "code",
   "execution_count": 4,
   "id": "b43ed664",
   "metadata": {},
   "outputs": [
    {
     "data": {
      "text/plain": [
       "'i love \"python\"'"
      ]
     },
     "execution_count": 4,
     "metadata": {},
     "output_type": "execute_result"
    }
   ],
   "source": [
    "'i love \"python\"'"
   ]
  },
  {
   "cell_type": "code",
   "execution_count": 5,
   "id": "1d50bc03",
   "metadata": {},
   "outputs": [
    {
     "data": {
      "text/plain": [
       "\"rani's learning python\""
      ]
     },
     "execution_count": 5,
     "metadata": {},
     "output_type": "execute_result"
    }
   ],
   "source": [
    "\"rani's learning python\""
   ]
  },
  {
   "cell_type": "code",
   "execution_count": 6,
   "id": "5011b91a",
   "metadata": {},
   "outputs": [
    {
     "data": {
      "text/plain": [
       "'Topic list coverage checklist[ edit]\\n\\nArt and culture[ edit] Culture Classical studies Cooking Critical theory Hobbies Literature ...\\nGeography and places[ edit] Geography\\nHealth and fitness[ edit] Health Exercise Health science Nutrition\\nHistory and events[ edit] ...\\nMathematics and abstractions[ edit] ...'"
      ]
     },
     "execution_count": 6,
     "metadata": {},
     "output_type": "execute_result"
    }
   ],
   "source": [
    "'''Topic list coverage checklist[ edit]\n",
    "\n",
    "Art and culture[ edit] Culture Classical studies Cooking Critical theory Hobbies Literature ...\n",
    "Geography and places[ edit] Geography\n",
    "Health and fitness[ edit] Health Exercise Health science Nutrition\n",
    "History and events[ edit] ...\n",
    "Mathematics and abstractions[ edit] ...'''"
   ]
  },
  {
   "cell_type": "code",
   "execution_count": 7,
   "id": "77fd12d9",
   "metadata": {},
   "outputs": [],
   "source": [
    "# Topic list coverage checklist[ edit]\n",
    "\n",
    "# Art and culture[ edit] Culture Classical studies Cooking Critical theory Hobbies Literature ...\n",
    "# Geography and places[ edit] Geography\n",
    "# Health and fitness[ edit] Health Exercise Health science Nutrition\n",
    "# History and events[ edit] ...\n",
    "# Mathematics and abstractions[ edit] ..Topic list coverage checklist[ edit]\n",
    "\n",
    "# Art and culture[ edit] Culture Classical studies Cooking Critical theory Hobbies Literature ...\n",
    "# Geography and places[ edit] Geography\n",
    "# Health and fitness[ edit] Health Exercise Health science Nutrition\n",
    "# History and events[ edit] ...\n",
    "# Mathematics and abstractions[ edit] .."
   ]
  },
  {
   "cell_type": "code",
   "execution_count": 8,
   "id": "5bfb2d82",
   "metadata": {},
   "outputs": [
    {
     "data": {
      "text/plain": [
       "\"rani's learning python\""
      ]
     },
     "execution_count": 8,
     "metadata": {},
     "output_type": "execute_result"
    }
   ],
   "source": [
    "\"rani\\'s learning python\""
   ]
  },
  {
   "cell_type": "code",
   "execution_count": 9,
   "id": "282008ce",
   "metadata": {},
   "outputs": [
    {
     "name": "stdout",
     "output_type": "stream",
     "text": [
      "14\n"
     ]
    },
    {
     "data": {
      "text/plain": [
       "'n'"
      ]
     },
     "execution_count": 9,
     "metadata": {},
     "output_type": "execute_result"
    }
   ],
   "source": [
    "#indexing...\n",
    "#int and float dont support\n",
    "#string and tuple will follow indexing\n",
    "\n",
    "string= 'python is good'\n",
    "print(len(string))\n",
    "string[5]"
   ]
  },
  {
   "cell_type": "code",
   "execution_count": 10,
   "id": "ceb280ec",
   "metadata": {},
   "outputs": [
    {
     "data": {
      "text/plain": [
       "7"
      ]
     },
     "execution_count": 10,
     "metadata": {},
     "output_type": "execute_result"
    }
   ],
   "source": [
    "string ='python3'\n",
    "len(string)"
   ]
  },
  {
   "cell_type": "code",
   "execution_count": 11,
   "id": "340d7eb8",
   "metadata": {},
   "outputs": [
    {
     "data": {
      "text/plain": [
       "'p'"
      ]
     },
     "execution_count": 11,
     "metadata": {},
     "output_type": "execute_result"
    }
   ],
   "source": [
    "string= 'python'\n",
    "#exctarct p from python\n",
    "string[0]"
   ]
  },
  {
   "cell_type": "code",
   "execution_count": 12,
   "id": "8e6448f3",
   "metadata": {},
   "outputs": [],
   "source": [
    "# #slicing\n",
    "# string_object[index]\n",
    "# string_object[start:end]\n",
    "# if start=0-> default value and end=len(string_object) -> default\n",
    "# end is exclusive AND start is inclusive\n"
   ]
  },
  {
   "cell_type": "code",
   "execution_count": 13,
   "id": "4347fe88",
   "metadata": {},
   "outputs": [
    {
     "name": "stdout",
     "output_type": "stream",
     "text": [
      "pyth\n",
      "pyth\n",
      "python\n",
      "thon\n"
     ]
    }
   ],
   "source": [
    "mystring= 'python'\n",
    "\n",
    "print(mystring[0:4])\n",
    "print(mystring[:4]) #default from start\n",
    "print(mystring[:]) #default all chars\n",
    "print(mystring[2:]) "
   ]
  },
  {
   "cell_type": "code",
   "execution_count": 14,
   "id": "17eeb1a7",
   "metadata": {},
   "outputs": [],
   "source": [
    "#string is immutable\n",
    "\n",
    "num= 5\n",
    "num=10 #vvalid\n",
    "\n",
    "mystring= 'pyth@n'\n",
    "\n",
    "#replace @ to o \n",
    "# mystring[4]='o' #INVALID, WILL THROW ERROR\n",
    "\n",
    "#To acheive this python introduced concatenation of data "
   ]
  },
  {
   "cell_type": "raw",
   "id": "8ada59d6",
   "metadata": {},
   "source": []
  },
  {
   "cell_type": "code",
   "execution_count": 15,
   "id": "a9802e76",
   "metadata": {},
   "outputs": [
    {
     "data": {
      "text/plain": [
       "'python language'"
      ]
     },
     "execution_count": 15,
     "metadata": {},
     "output_type": "execute_result"
    }
   ],
   "source": [
    "str1='python'\n",
    "str2='language'\n",
    "str1+str2\n",
    "\n",
    "str1+' '+str2\n"
   ]
  },
  {
   "cell_type": "code",
   "execution_count": 16,
   "id": "2222bbe6",
   "metadata": {},
   "outputs": [
    {
     "data": {
      "text/plain": [
       "'python'"
      ]
     },
     "execution_count": 16,
     "metadata": {},
     "output_type": "execute_result"
    }
   ],
   "source": [
    "mystring= 'pyth@n'\n",
    "\n",
    "#replace @ to o \n",
    "# mystring[4]='o' #INVALID, WILL THROW ERROR\n",
    "\n",
    "#using concatenation\n",
    "mystring[:4] + 'o' + mystring[5]"
   ]
  },
  {
   "cell_type": "code",
   "execution_count": 17,
   "id": "c6b216d4",
   "metadata": {},
   "outputs": [
    {
     "data": {
      "text/plain": [
       "'pyth@n'"
      ]
     },
     "execution_count": 17,
     "metadata": {},
     "output_type": "execute_result"
    }
   ],
   "source": [
    "mystring # it didnt changed the orginal string value though"
   ]
  },
  {
   "cell_type": "code",
   "execution_count": 18,
   "id": "9089902b",
   "metadata": {},
   "outputs": [
    {
     "data": {
      "text/plain": [
       "'hhhhh'"
      ]
     },
     "execution_count": 18,
     "metadata": {},
     "output_type": "execute_result"
    }
   ],
   "source": [
    "strr='h'\n",
    "5 * strr"
   ]
  },
  {
   "cell_type": "code",
   "execution_count": 19,
   "id": "ad80f038",
   "metadata": {},
   "outputs": [
    {
     "data": {
      "text/plain": [
       "'Hello'"
      ]
     },
     "execution_count": 19,
     "metadata": {},
     "output_type": "execute_result"
    }
   ],
   "source": [
    "#valid string + dot(.) + press TAB to see all methods for strings\n",
    "str='hello'\n",
    "str.capitalize()"
   ]
  },
  {
   "cell_type": "code",
   "execution_count": 20,
   "id": "b3c45694",
   "metadata": {},
   "outputs": [
    {
     "data": {
      "text/plain": [
       "0"
      ]
     },
     "execution_count": 20,
     "metadata": {},
     "output_type": "execute_result"
    }
   ],
   "source": [
    "str.count('r')\n",
    "#to see what a method does, press SHIFT + TAB method"
   ]
  },
  {
   "cell_type": "code",
   "execution_count": 21,
   "id": "3f21a965",
   "metadata": {},
   "outputs": [
    {
     "data": {
      "text/plain": [
       "False"
      ]
     },
     "execution_count": 21,
     "metadata": {},
     "output_type": "execute_result"
    }
   ],
   "source": [
    "str.endswith('h')"
   ]
  },
  {
   "cell_type": "code",
   "execution_count": 23,
   "id": "4d21bb6f",
   "metadata": {},
   "outputs": [],
   "source": [
    "# replace() format() split() isdigit() index() join() isnum() isalpha()"
   ]
  }
 ],
 "metadata": {
  "kernelspec": {
   "display_name": "Python 3 (ipykernel)",
   "language": "python",
   "name": "python3"
  },
  "language_info": {
   "codemirror_mode": {
    "name": "ipython",
    "version": 3
   },
   "file_extension": ".py",
   "mimetype": "text/x-python",
   "name": "python",
   "nbconvert_exporter": "python",
   "pygments_lexer": "ipython3",
   "version": "3.9.18"
  }
 },
 "nbformat": 4,
 "nbformat_minor": 5
}
